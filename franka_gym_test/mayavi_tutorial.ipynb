{
 "cells": [
  {
   "cell_type": "code",
   "execution_count": 4,
   "metadata": {},
   "outputs": [],
   "source": [
    "from mayavi import mlab\n",
    "import numpy as np\n",
    "import matplotlib.pyplot as plt\n",
    "from scipy.spatial.transform import Rotation\n",
    "\n",
    "from mayavi.api import Engine\n",
    "from mayavi.sources.api import ParametricSurface\n",
    "from mayavi.modules.api import Surface"
   ]
  },
  {
   "cell_type": "code",
   "execution_count": 5,
   "metadata": {},
   "outputs": [
    {
     "name": "stderr",
     "output_type": "stream",
     "text": [
      "libpng warning: iCCP: known incorrect sRGB profile\n"
     ]
    }
   ],
   "source": [
    "mlab.test_mesh()\n",
    "mlab.show()\n",
    "\n",
    "mlab.test_contour3d()\n",
    "mlab.show()"
   ]
  },
  {
   "cell_type": "code",
   "execution_count": null,
   "metadata": {},
   "outputs": [],
   "source": [
    "class Obstacle():\n",
    "    def __init__(self, center, radius):\n",
    "        self.center = center\n",
    "        self.radius = radius\n",
    "\n",
    "    def is_inside(self, point):\n",
    "        return np.linalg.norm(point - self.center) < self.radius"
   ]
  },
  {
   "cell_type": "code",
   "execution_count": null,
   "metadata": {},
   "outputs": [],
   "source": [
    "# plot_ellipse_3d(\n",
    "#     scene=scene, center=obs.center_position, axes_length=obs.axes_length\n",
    "# )\n",
    "engine = Engine()\n",
    "source = ParametricSurface()\n",
    "source.function = \"ellipsoid\"\n",
    "engine.add_source(source)\n",
    "surface = Surface()\n",
    "source.add_module(surface)\n",
    "\n",
    "actor = surface.actor  # mayavi actor, actor.actor is tvtk actor\n",
    "# defaults to 0 for some reason, ah don't need it, turn off scalar visibility instead\n",
    "# actor.property.ambient = 1\n",
    "actor.property.opacity = \n",
    "actor.property.color = tuple()\n",
    "\n",
    "# Colour ellipses by their scalar indices into colour map\n",
    "actor.mapper.scalar_visibility = False\n",
    "\n",
    "# gets rid of weird rendering artifact when opacity is < 1\n",
    "actor.property.backface_culling = True\n",
    "actor.property.specular = 0.1\n",
    "\n",
    "# actor.property.frontface_culling = True\n",
    "if obs.pose.orientation is not None:\n",
    "    # orientation = obs.pose.orientation.as_euler(\"xyz\")\n",
    "    # orientation = obs.pose.orientation.as_euler(\"xyz\", degrees=True)\n",
    "    quat = obs.pose.orientation.as_quat()\n",
    "    if quat[0] < 0:\n",
    "        quat = quat * (-1)\n",
    "        obs.pose.orientation.from_quat(quat)\n",
    "\n",
    "    orientation = obs.pose.orientation.as_euler(\"xyz\", degrees=True)\n",
    "\n",
    "    if np.isclose(abs(orientation[0]), 180) and ii in [7, 8]:\n",
    "        orientation[0] = 0\n",
    "        orientation[1] = orientation[1] - 180\n",
    "        orientation[2] = orientation[2]\n",
    "\n",
    "    actor.actor.orientation = orientation\n",
    "    # breakpoint()\n",
    "\n",
    "# actor.actor.origin = obs.center_position\n",
    "# actor.actor.position = np.zeros(self.dimension)\n",
    "actor.actor.origin = np.zeros(self.dimension)\n",
    "actor.actor.position = obs.center_position\n",
    "print('3d position', actor.actor.position)\n",
    "actor.actor.scale = obs.axes_length * 0.5\n",
    "actor.enable_texture = True"
   ]
  }
 ],
 "metadata": {
  "kernelspec": {
   "display_name": "roam",
   "language": "python",
   "name": "python3"
  },
  "language_info": {
   "codemirror_mode": {
    "name": "ipython",
    "version": 3
   },
   "file_extension": ".py",
   "mimetype": "text/x-python",
   "name": "python",
   "nbconvert_exporter": "python",
   "pygments_lexer": "ipython3",
   "version": "3.10.0"
  }
 },
 "nbformat": 4,
 "nbformat_minor": 2
}
